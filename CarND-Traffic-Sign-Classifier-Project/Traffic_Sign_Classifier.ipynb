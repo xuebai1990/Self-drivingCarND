{
 "cells": [
  {
   "cell_type": "markdown",
   "metadata": {},
   "source": [
    "# Self-Driving Car Engineer Nanodegree\n",
    "\n",
    "## Deep Learning\n",
    "\n",
    "## Project: Build a Traffic Sign Recognition Classifier\n",
    "\n",
    "In this notebook, a template is provided for you to implement your functionality in stages, which is required to successfully complete this project. If additional code is required that cannot be included in the notebook, be sure that the Python code is successfully imported and included in your submission if necessary. \n",
    "\n",
    "> **Note**: Once you have completed all of the code implementations, you need to finalize your work by exporting the iPython Notebook as an HTML document. Before exporting the notebook to html, all of the code cells need to have been run so that reviewers can see the final implementation and output. You can then export the notebook by using the menu above and navigating to  \\n\",\n",
    "    \"**File -> Download as -> HTML (.html)**. Include the finished document along with this notebook as your submission. \n",
    "\n",
    "In addition to implementing code, there is a writeup to complete. The writeup should be completed in a separate file, which can be either a markdown file or a pdf document. There is a [write up template](https://github.com/udacity/CarND-Traffic-Sign-Classifier-Project/blob/master/writeup_template.md) that can be used to guide the writing process. Completing the code template and writeup template will cover all of the [rubric points](https://review.udacity.com/#!/rubrics/481/view) for this project.\n",
    "\n",
    "The [rubric](https://review.udacity.com/#!/rubrics/481/view) contains \"Stand Out Suggestions\" for enhancing the project beyond the minimum requirements. The stand out suggestions are optional. If you decide to pursue the \"stand out suggestions\", you can include the code in this Ipython notebook and also discuss the results in the writeup file.\n",
    "\n",
    "\n",
    ">**Note:** Code and Markdown cells can be executed using the **Shift + Enter** keyboard shortcut. In addition, Markdown cells can be edited by typically double-clicking the cell to enter edit mode."
   ]
  },
  {
   "cell_type": "markdown",
   "metadata": {},
   "source": [
    "---\n",
    "## Step 0: Load The Data"
   ]
  },
  {
   "cell_type": "code",
   "execution_count": 2,
   "metadata": {
    "collapsed": true
   },
   "outputs": [],
   "source": [
    "# Load pickled data\n",
    "import pickle\n",
    "\n",
    "# TODO: Fill this in based on where you saved the training and testing data\n",
    "\n",
    "training_file = 'train.p'\n",
    "validation_file = 'valid.p'\n",
    "testing_file = 'test.p'\n",
    "\n",
    "with open(training_file, mode='rb') as f:\n",
    "    train = pickle.load(f)\n",
    "with open(validation_file, mode='rb') as f:\n",
    "    valid = pickle.load(f)\n",
    "with open(testing_file, mode='rb') as f:\n",
    "    test = pickle.load(f)\n",
    "    \n",
    "X_train, y_train = train['features'], train['labels']\n",
    "X_valid, y_valid = valid['features'], valid['labels']\n",
    "X_test, y_test = test['features'], test['labels']"
   ]
  },
  {
   "cell_type": "markdown",
   "metadata": {},
   "source": [
    "---\n",
    "\n",
    "## Step 1: Dataset Summary & Exploration\n",
    "\n",
    "The pickled data is a dictionary with 4 key/value pairs:\n",
    "\n",
    "- `'features'` is a 4D array containing raw pixel data of the traffic sign images, (num examples, width, height, channels).\n",
    "- `'labels'` is a 1D array containing the label/class id of the traffic sign. The file `signnames.csv` contains id -> name mappings for each id.\n",
    "- `'sizes'` is a list containing tuples, (width, height) representing the original width and height the image.\n",
    "- `'coords'` is a list containing tuples, (x1, y1, x2, y2) representing coordinates of a bounding box around the sign in the image. **THESE COORDINATES ASSUME THE ORIGINAL IMAGE. THE PICKLED DATA CONTAINS RESIZED VERSIONS (32 by 32) OF THESE IMAGES**\n",
    "\n",
    "Complete the basic data summary below. Use python, numpy and/or pandas methods to calculate the data summary rather than hard coding the results. For example, the [pandas shape method](http://pandas.pydata.org/pandas-docs/stable/generated/pandas.DataFrame.shape.html) might be useful for calculating some of the summary results. "
   ]
  },
  {
   "cell_type": "markdown",
   "metadata": {},
   "source": [
    "### Provide a Basic Summary of the Data Set Using Python, Numpy and/or Pandas"
   ]
  },
  {
   "cell_type": "code",
   "execution_count": 3,
   "metadata": {},
   "outputs": [
    {
     "name": "stdout",
     "output_type": "stream",
     "text": [
      "Number of training examples = 34799\n",
      "Number of validation examples = 4410\n",
      "Number of testing examples = 12630\n",
      "Image data shape = (32, 32, 3)\n",
      "Number of classes = 43\n"
     ]
    }
   ],
   "source": [
    "import numpy as np\n",
    "### Replace each question mark with the appropriate value. \n",
    "### Use python, pandas or numpy methods rather than hard coding the results\n",
    "\n",
    "# TODO: Number of training examples\n",
    "n_train = X_train.shape[0]\n",
    "\n",
    "# TODO: Number of validation examples\n",
    "n_validation = X_valid.shape[0]\n",
    "\n",
    "# TODO: Number of testing examples.\n",
    "n_test = X_test.shape[0]\n",
    "\n",
    "# TODO: What's the shape of an traffic sign image?\n",
    "image_shape = X_train.shape[1:4]\n",
    "\n",
    "# TODO: How many unique classes/labels there are in the dataset.\n",
    "X_all = np.concatenate([y_train, y_valid, y_test], axis=0)\n",
    "n_classes = len(np.unique(X_all))\n",
    "\n",
    "print(\"Number of training examples =\", n_train)\n",
    "print(\"Number of validation examples =\", n_validation)\n",
    "print(\"Number of testing examples =\", n_test)\n",
    "print(\"Image data shape =\", image_shape)\n",
    "print(\"Number of classes =\", n_classes)"
   ]
  },
  {
   "cell_type": "markdown",
   "metadata": {},
   "source": [
    "### Include an exploratory visualization of the dataset"
   ]
  },
  {
   "cell_type": "markdown",
   "metadata": {},
   "source": [
    "Visualize the German Traffic Signs Dataset using the pickled file(s). This is open ended, suggestions include: plotting traffic sign images, plotting the count of each sign, etc. \n",
    "\n",
    "The [Matplotlib](http://matplotlib.org/) [examples](http://matplotlib.org/examples/index.html) and [gallery](http://matplotlib.org/gallery.html) pages are a great resource for doing visualizations in Python.\n",
    "\n",
    "**NOTE:** It's recommended you start with something simple first. If you wish to do more, come back to it after you've completed the rest of the sections. It can be interesting to look at the distribution of classes in the training, validation and test set. Is the distribution the same? Are there more examples of some classes than others?"
   ]
  },
  {
   "cell_type": "code",
   "execution_count": 5,
   "metadata": {},
   "outputs": [
    {
     "name": "stdout",
     "output_type": "stream",
     "text": [
      "4\n"
     ]
    },
    {
     "data": {
      "image/png": "[encoded data removed]",
      "text/plain": [
       "<Figure size 432x288 with 1 Axes>"
      ]
     },
     "metadata": {},
     "output_type": "display_data"
    }
   ],
   "source": [
    "### Data exploration visualization code goes here.\n",
    "### Feel free to use as many code cells as needed.\n",
    "import matplotlib.pyplot as plt\n",
    "# Visualizations will be shown in the notebook.\n",
    "%matplotlib inline\n",
    "\n",
    "index = np.random.randint(0, X_train.shape[0])\n",
    "plt.figure()\n",
    "plt.grid(False)\n",
    "plt.imshow(X_train[index])\n",
    "print(y_train[index])"
   ]
  },
  {
   "cell_type": "code",
   "execution_count": 4,
   "metadata": {
    "collapsed": true
   },
   "outputs": [],
   "source": [
    "import seaborn as sns"
   ]
  },
  {
   "cell_type": "code",
   "execution_count": 6,
   "metadata": {},
   "outputs": [
    {
     "name": "stderr",
     "output_type": "stream",
     "text": [
      "/Users/bai/anaconda/lib/python3.6/site-packages/matplotlib/axes/_axes.py:6462: UserWarning: The 'normed' kwarg is deprecated, and has been replaced by the 'density' kwarg.\n",
      "  warnings.warn(\"The 'normed' kwarg is deprecated, and has been \"\n"
     ]
    },
    {
     "data": {
      "image/png": "[encoded data removed]",
      "text/plain": [
       "<Figure size 576x396 with 1 Axes>"
      ]
     },
     "metadata": {},
     "output_type": "display_data"
    }
   ],
   "source": [
    "hist = sns.distplot(y_train, kde=False)\n",
    "hist.figure.savefig(\"train_label_histogram.png\")"
   ]
  },
  {
   "cell_type": "code",
   "execution_count": 7,
   "metadata": {},
   "outputs": [
    {
     "name": "stderr",
     "output_type": "stream",
     "text": [
      "/Users/bai/anaconda/lib/python3.6/site-packages/matplotlib/axes/_axes.py:6462: UserWarning: The 'normed' kwarg is deprecated, and has been replaced by the 'density' kwarg.\n",
      "  warnings.warn(\"The 'normed' kwarg is deprecated, and has been \"\n"
     ]
    },
    {
     "data": {
      "image/png": "[encoded data removed]",
      "text/plain": [
       "<Figure size 576x396 with 1 Axes>"
      ]
     },
     "metadata": {},
     "output_type": "display_data"
    }
   ],
   "source": [
    "hist = sns.distplot(y_valid, kde=False)\n",
    "hist.figure.savefig(\"valid_label_histogram.png\")"
   ]
  },
  {
   "cell_type": "code",
   "execution_count": 8,
   "metadata": {},
   "outputs": [
    {
     "name": "stderr",
     "output_type": "stream",
     "text": [
      "/Users/bai/anaconda/lib/python3.6/site-packages/matplotlib/axes/_axes.py:6462: UserWarning: The 'normed' kwarg is deprecated, and has been replaced by the 'density' kwarg.\n",
      "  warnings.warn(\"The 'normed' kwarg is deprecated, and has been \"\n"
     ]
    },
    {
     "data": {
      "image/png": "[encoded data removed]",
      "text/plain": [
       "<Figure size 576x396 with 1 Axes>"
      ]
     },
     "metadata": {},
     "output_type": "display_data"
    }
   ],
   "source": [
    "hist = sns.distplot(y_test, kde=False)\n",
    "hist.figure.savefig(\"test_label_histogram.png\")"
   ]
  },
  {
   "cell_type": "markdown",
   "metadata": {},
   "source": [
    "----\n",
    "\n",
    "## Step 2: Design and Test a Model Architecture\n",
    "\n",
    "Design and implement a deep learning model that learns to recognize traffic signs. Train and test your model on the [German Traffic Sign Dataset](http://benchmark.ini.rub.de/?section=gtsrb&subsection=dataset).\n",
    "\n",
    "The LeNet-5 implementation shown in the [classroom](https://classroom.udacity.com/nanodegrees/nd013/parts/fbf77062-5703-404e-b60c-95b78b2f3f9e/modules/6df7ae49-c61c-4bb2-a23e-6527e69209ec/lessons/601ae704-1035-4287-8b11-e2c2716217ad/concepts/d4aca031-508f-4e0b-b493-e7b706120f81) at the end of the CNN lesson is a solid starting point. You'll have to change the number of classes and possibly the preprocessing, but aside from that it's plug and play! \n",
    "\n",
    "With the LeNet-5 solution from the lecture, you should expect a validation set accuracy of about 0.89. To meet specifications, the validation set accuracy will need to be at least 0.93. It is possible to get an even higher accuracy, but 0.93 is the minimum for a successful project submission. \n",
    "\n",
    "There are various aspects to consider when thinking about this problem:\n",
    "\n",
    "- Neural network architecture (is the network over or underfitting?)\n",
    "- Play around preprocessing techniques (normalization, rgb to grayscale, etc)\n",
    "- Number of examples per label (some have more than others).\n",
    "- Generate fake data.\n",
    "\n",
    "Here is an example of a [published baseline model on this problem](http://yann.lecun.com/exdb/publis/pdf/sermanet-ijcnn-11.pdf). It's not required to be familiar with the approach used in the paper but, it's good practice to try to read papers like these."
   ]
  },
  {
   "cell_type": "markdown",
   "metadata": {},
   "source": [
    "### Pre-process the Data Set (normalization, grayscale, etc.)"
   ]
  },
  {
   "cell_type": "markdown",
   "metadata": {},
   "source": [
    "Minimally, the image data should be normalized so that the data has mean zero and equal variance. For image data, `(pixel - 128)/ 128` is a quick way to approximately normalize the data and can be used in this project. \n",
    "\n",
    "Other pre-processing steps are optional. You can try different techniques to see if it improves performance. \n",
    "\n",
    "Use the code cell (or multiple code cells, if necessary) to implement the first step of your project."
   ]
  },
  {
   "cell_type": "code",
   "execution_count": 9,
   "metadata": {
    "collapsed": true
   },
   "outputs": [],
   "source": [
    "def preprocess(X):\n",
    "    X = np.sum(X/3, axis=3, keepdims=True)\n",
    "    X = (X - 128) / 128\n",
    "    return X"
   ]
  },
  {
   "cell_type": "code",
   "execution_count": 10,
   "metadata": {
    "collapsed": true
   },
   "outputs": [],
   "source": [
    "# Normalize\n",
    "X_train_gray = preprocess(X_train)\n",
    "X_valid_gray = preprocess(X_valid)\n",
    "X_test_gray = preprocess(X_test)"
   ]
  },
  {
   "cell_type": "markdown",
   "metadata": {},
   "source": [
    "### Data augmentation"
   ]
  },
  {
   "cell_type": "code",
   "execution_count": 7,
   "metadata": {
    "collapsed": true
   },
   "outputs": [],
   "source": [
    "import cv2\n",
    "\n",
    "def random_scaling(img):   \n",
    "    r,c,_ = img.shape\n",
    "\n",
    "    pixel = np.random.randint(-2,2)\n",
    "\n",
    "    pts1 = np.float32([[pixel,pixel],[r-pixel,pixel],[pixel,c-pixel],[r-pixel,c-pixel]])\n",
    "\n",
    "    pts2 = np.float32([[0,0],[r,0],[0,c],[r,c]])\n",
    "\n",
    "    M = cv2.getPerspectiveTransform(pts1,pts2)\n",
    "\n",
    "    dst = cv2.warpPerspective(img,M,(r,c))\n",
    "    \n",
    "    dst = dst[:,:,np.newaxis]\n",
    "    \n",
    "    return dst"
   ]
  },
  {
   "cell_type": "code",
   "execution_count": 33,
   "metadata": {},
   "outputs": [
    {
     "data": {
      "image/png": "[encoded data removed]",
      "text/plain": [
       "<Figure size 432x288 with 2 Axes>"
      ]
     },
     "metadata": {},
     "output_type": "display_data"
    }
   ],
   "source": [
    "# test\n",
    "index = np.random.randint(0, X_train.shape[0])\n",
    "f, (ax1, ax2) = plt.subplots(1, 2)\n",
    "ax1.grid(False)\n",
    "ax2.grid(False)\n",
    "ax1.imshow(X_train_gray[index].squeeze(), cmap='gray')\n",
    "new_img = random_scaling(X_train_gray[index])\n",
    "ax2.imshow(new_img.squeeze(), cmap='gray')\n",
    "f.savefig(\"random_scaling.png\")"
   ]
  },
  {
   "cell_type": "code",
   "execution_count": 34,
   "metadata": {
    "collapsed": true
   },
   "outputs": [],
   "source": [
    "from skimage.transform import rotate\n",
    "\n",
    "def random_rotate(img):\n",
    "    angle = np.random.uniform(-10, 10)\n",
    "    dst = rotate(img, angle)\n",
    "    return dst"
   ]
  },
  {
   "cell_type": "code",
   "execution_count": 38,
   "metadata": {},
   "outputs": [
    {
     "data": {
      "image/png": "[encoded data removed]",
      "text/plain": [
       "<Figure size 432x288 with 2 Axes>"
      ]
     },
     "metadata": {},
     "output_type": "display_data"
    }
   ],
   "source": [
    "index = np.random.randint(0, X_train.shape[0])\n",
    "f, (ax1, ax2) = plt.subplots(1, 2)\n",
    "ax1.grid(False)\n",
    "ax2.grid(False)\n",
    "ax1.imshow(X_train_gray[index].squeeze(), cmap='gray')\n",
    "new_img = random_rotate(X_train_gray[index])\n",
    "ax2.imshow(new_img.squeeze(), cmap='gray')\n",
    "f.savefig(\"random_rotate.png\")"
   ]
  },
  {
   "cell_type": "code",
   "execution_count": 39,
   "metadata": {
    "collapsed": true
   },
   "outputs": [],
   "source": [
    "def random_translate(img):\n",
    "    r,c,_ = img.shape\n",
    "    \n",
    "    pixel = 2\n",
    "    dx,dy = np.random.randint(-pixel,pixel,2)\n",
    "\n",
    "    M = np.float32([[1,0,dx],[0,1,dy]])\n",
    "    dst = cv2.warpAffine(img,M,(c,r))\n",
    "    \n",
    "    dst = dst[:,:,np.newaxis]\n",
    "    \n",
    "    return dst"
   ]
  },
  {
   "cell_type": "code",
   "execution_count": 44,
   "metadata": {},
   "outputs": [
    {
     "data": {
      "image/png": "[encoded data removed]",
      "text/plain": [
       "<Figure size 432x288 with 2 Axes>"
      ]
     },
     "metadata": {},
     "output_type": "display_data"
    }
   ],
   "source": [
    "index = np.random.randint(0, X_train.shape[0])\n",
    "f, (ax1, ax2) = plt.subplots(1, 2)\n",
    "ax1.grid(False)\n",
    "ax2.grid(False)\n",
    "ax1.imshow(X_train_gray[index].squeeze(), cmap='gray')\n",
    "new_img = random_translate(X_train_gray[index])\n",
    "ax2.imshow(new_img.squeeze(), cmap='gray')\n",
    "f.savefig(\"random_translate.png\")"
   ]
  },
  {
   "cell_type": "code",
   "execution_count": 16,
   "metadata": {},
   "outputs": [
    {
     "data": {
      "text/plain": [
       "<matplotlib.image.AxesImage at 0x7f5d8280c860>"
      ]
     },
     "execution_count": 16,
     "metadata": {},
     "output_type": "execute_result"
    },
    {
     "data": {
      "image/png": "[encoded data removed]",
      "text/plain": [
       "<matplotlib.figure.Figure at 0x7f5d828ad630>"
      ]
     },
     "metadata": {},
     "output_type": "display_data"
    }
   ],
   "source": [
    "index = np.random.randint(0, X_train.shape[0])\n",
    "f, (ax1, ax2) = plt.subplots(1, 2)\n",
    "ax1.imshow(X_train_gray[index].squeeze(), cmap='gray')\n",
    "new_img = random_translate(random_rotate(random_scaling(X_train_gray[index])))\n",
    "ax2.imshow(new_img.squeeze(), cmap='gray')"
   ]
  },
  {
   "cell_type": "code",
   "execution_count": 46,
   "metadata": {},
   "outputs": [
    {
     "name": "stdout",
     "output_type": "stream",
     "text": [
      "(31708, 32, 32, 1) (31708,)\n",
      "(66507, 32, 32, 1) (66507,)\n"
     ]
    }
   ],
   "source": [
    "# Augment images\n",
    "from collections import defaultdict\n",
    "\n",
    "labels = defaultdict(int)\n",
    "add_per_label = defaultdict(int)\n",
    "for i in range(X_train.shape[0]):\n",
    "    labels[y_train[i]] += 1\n",
    "    \n",
    "for label in labels:\n",
    "    if labels[label] < 1200:\n",
    "        add_per_label[label] = (1200 - labels[label]) // labels[label] + 1\n",
    "\n",
    "X_train_add = []\n",
    "y_train_add = []\n",
    "for i in range(X_train.shape[0]):\n",
    "    for j in range(add_per_label[y_train[i]]):\n",
    "        new_img = random_translate(random_rotate(random_scaling(X_train_gray[i])))\n",
    "        X_train_add.append(new_img)\n",
    "        y_train_add.append(y_train[i])\n",
    "X_train_add = np.stack(X_train_add, axis=0)\n",
    "y_train_add = np.stack(y_train_add, axis=0)\n",
    "print(X_train_add.shape, y_train_add.shape)\n",
    "        \n",
    "X_train_gray = np.concatenate((X_train_gray, X_train_add), axis=0)\n",
    "y_train = np.concatenate((y_train, y_train_add), axis=0)\n",
    "\n",
    "print(X_train_gray.shape, y_train.shape)"
   ]
  },
  {
   "cell_type": "code",
   "execution_count": 47,
   "metadata": {},
   "outputs": [
    {
     "name": "stderr",
     "output_type": "stream",
     "text": [
      "/Users/bai/anaconda/lib/python3.6/site-packages/matplotlib/axes/_axes.py:6462: UserWarning: The 'normed' kwarg is deprecated, and has been replaced by the 'density' kwarg.\n",
      "  warnings.warn(\"The 'normed' kwarg is deprecated, and has been \"\n"
     ]
    },
    {
     "data": {
      "image/png": "[encoded data removed]",
      "text/plain": [
       "<Figure size 432x288 with 1 Axes>"
      ]
     },
     "metadata": {},
     "output_type": "display_data"
    }
   ],
   "source": [
    "# check new label histogram\n",
    "hist = sns.distplot(y_train, kde=False)\n",
    "hist.figure.savefig(\"train_label_histogram_augmented.png\")"
   ]
  },
  {
   "cell_type": "markdown",
   "metadata": {},
   "source": [
    "### Model Architecture"
   ]
  },
  {
   "cell_type": "code",
   "execution_count": 12,
   "metadata": {
    "collapsed": true
   },
   "outputs": [],
   "source": [
    "import tensorflow as tf\n",
    "from sklearn.utils import shuffle"
   ]
  },
  {
   "cell_type": "code",
   "execution_count": 13,
   "metadata": {
    "collapsed": true
   },
   "outputs": [],
   "source": [
    "def generate_batch(X_train, y_train, batch_size):\n",
    "    X_train, y_train = shuffle(X_train, y_train)\n",
    "    m = X_train.shape[0] // batch_size + 1\n",
    "    for i in range(m):\n",
    "        s = i * batch_size\n",
    "        e = (i + 1) * batch_size\n",
    "        if e > X_train.shape[0]: e = X_train.shape[0]\n",
    "        yield X_train[s:e], y_train[s:e]"
   ]
  },
  {
   "cell_type": "code",
   "execution_count": 14,
   "metadata": {
    "collapsed": true
   },
   "outputs": [],
   "source": [
    "lr = 0.0005\n",
    "batch_size = 32\n",
    "epochs = 50"
   ]
  },
  {
   "cell_type": "code",
   "execution_count": 15,
   "metadata": {
    "collapsed": true
   },
   "outputs": [],
   "source": [
    "inputs = tf.placeholder(tf.float32, shape=(None, 32, 32, 1))\n",
    "labels = tf.placeholder(tf.uint8, shape=(None))\n",
    "y_labels = tf.one_hot(labels, 43)\n",
    "is_training = tf.placeholder(tf.bool)"
   ]
  },
  {
   "cell_type": "code",
   "execution_count": 16,
   "metadata": {
    "collapsed": true
   },
   "outputs": [],
   "source": [
    "### Define your architecture here.\n",
    "### Feel free to use as many code cells as needed.\n",
    "def lenet(inputs):\n",
    "    \n",
    "    conv1 = tf.contrib.layers.conv2d(inputs, 6, (5, 5), 1, padding='VALID', activation_fn=tf.nn.relu)\n",
    "    pool1 = tf.layers.max_pooling2d(conv1, (2, 2), 2)\n",
    "    \n",
    "    conv2 = tf.contrib.layers.conv2d(pool1, 6, (5, 5), 1, padding='VALID', activation_fn=tf.nn.relu)\n",
    "    pool2 = tf.layers.max_pooling2d(conv2, (2, 2), 2)\n",
    "    \n",
    "    conv3 = tf.contrib.layers.conv2d(pool2, 400, (1, 1), 1, padding='VALID', activation_fn=tf.nn.relu)\n",
    "    \n",
    "    flat1 = tf.contrib.layers.flatten(pool1)\n",
    "    flat2 = tf.contrib.layers.flatten(conv3)\n",
    "    concat = tf.concat([flat1, flat2], 1)\n",
    "    drop1 = tf.layers.dropout(concat, rate=0.5, training=is_training)\n",
    "#    dense1 = tf.contrib.layers.fully_connected(concat, 500, activation_fn=tf.nn.relu)\n",
    "#    drop2 = tf.layers.dropout(dense1, rate=0.5, training=is_training)\n",
    "#   dense2 = tf.contrib.layers.fully_connected(drop2, 512, activation_fn=tf.nn.relu)\n",
    "#    drop3 = tf.layers.dropout(dense2, rate=0.5, training=is_training)\n",
    "    logits = tf.contrib.layers.fully_connected(drop1, 43, activation_fn=None)\n",
    "    \n",
    "    return logits"
   ]
  },
  {
   "cell_type": "markdown",
   "metadata": {},
   "source": [
    "### Train, Validate and Test the Model"
   ]
  },
  {
   "cell_type": "markdown",
   "metadata": {},
   "source": [
    "A validation set can be used to assess how well the model is performing. A low accuracy on the training and validation\n",
    "sets imply underfitting. A high accuracy on the training set but low accuracy on the validation set implies overfitting."
   ]
  },
  {
   "cell_type": "code",
   "execution_count": 17,
   "metadata": {
    "collapsed": true
   },
   "outputs": [],
   "source": [
    "### Train your model here.\n",
    "### Calculate and report the accuracy on the training and validation set.\n",
    "### Once a final model architecture is selected, \n",
    "### the accuracy on the test set should be calculated and reported as well.\n",
    "### Feel free to use as many code cells as needed.\n",
    "logits = lenet(inputs)\n",
    "loss = tf.reduce_mean(tf.nn.softmax_cross_entropy_with_logits(logits=logits, labels=y_labels))\n",
    "opt = tf.train.AdamOptimizer(learning_rate=lr).minimize(loss)"
   ]
  },
  {
   "cell_type": "code",
   "execution_count": 18,
   "metadata": {
    "collapsed": true
   },
   "outputs": [],
   "source": [
    "# Evaluate\n",
    "correct_prediction = tf.equal(tf.argmax(logits, 1), tf.argmax(y_labels, 1))\n",
    "accuracy = tf.reduce_mean(tf.cast(correct_prediction, tf.float32))\n",
    "saver = tf.train.Saver()"
   ]
  },
  {
   "cell_type": "code",
   "execution_count": 24,
   "metadata": {
    "collapsed": true
   },
   "outputs": [],
   "source": [
    "def evaluate(X_data, y_data):\n",
    "    num_examples = len(X_data)\n",
    "    total_accuracy = 0\n",
    "    sess = tf.get_default_session()\n",
    "    for offset in range(0, num_examples, batch_size):\n",
    "        batch_x, batch_y = X_data[offset:offset+batch_size], y_data[offset:offset+batch_size]\n",
    "        acc = sess.run(accuracy, feed_dict={inputs: batch_x, labels: batch_y, is_training:False})\n",
    "        total_accuracy += (acc * len(batch_x))\n",
    "    return total_accuracy / num_examples"
   ]
  },
  {
   "cell_type": "code",
   "execution_count": 20,
   "metadata": {
    "collapsed": true
   },
   "outputs": [],
   "source": [
    "# test\n",
    "softmax = tf.nn.softmax(logits)\n",
    "top_k = tf.nn.top_k(softmax, k=5)"
   ]
  },
  {
   "cell_type": "code",
   "execution_count": 27,
   "metadata": {},
   "outputs": [
    {
     "name": "stdout",
     "output_type": "stream",
     "text": [
      "Epoch 0, validation accuracy 0.8532881736755371\n",
      "Epoch 1, validation accuracy 0.912018358707428\n",
      "Epoch 2, validation accuracy 0.9052156209945679\n",
      "Epoch 3, validation accuracy 0.9249435663223267\n",
      "Epoch 4, validation accuracy 0.9272111654281616\n",
      "Epoch 5, validation accuracy 0.9260773062705994\n",
      "Epoch 6, validation accuracy 0.9335602521896362\n",
      "Epoch 7, validation accuracy 0.9158732295036316\n",
      "Epoch 8, validation accuracy 0.9256237745285034\n",
      "Epoch 9, validation accuracy 0.9222224354743958\n",
      "Epoch 10, validation accuracy 0.9369617104530334\n",
      "Epoch 11, validation accuracy 0.941270112991333\n",
      "Epoch 12, validation accuracy 0.9451249837875366\n",
      "Epoch 13, validation accuracy 0.9342405796051025\n",
      "Epoch 14, validation accuracy 0.9426305890083313\n",
      "Epoch 15, validation accuracy 0.9321998357772827\n",
      "Epoch 16, validation accuracy 0.9424039125442505\n",
      "Epoch 17, validation accuracy 0.9414968490600586\n",
      "Epoch 18, validation accuracy 0.9401363134384155\n",
      "Epoch 19, validation accuracy 0.9424039125442505\n",
      "Epoch 20, validation accuracy 0.9342406392097473\n",
      "Epoch 21, validation accuracy 0.9421770572662354\n",
      "Epoch 22, validation accuracy 0.9399096369743347\n",
      "Epoch 23, validation accuracy 0.9446715116500854\n",
      "Epoch 24, validation accuracy 0.9446714520454407\n",
      "Epoch 25, validation accuracy 0.9374152421951294\n",
      "Epoch 26, validation accuracy 0.9482996463775635\n",
      "Epoch 27, validation accuracy 0.9394559860229492\n",
      "Epoch 28, validation accuracy 0.9455784559249878\n",
      "Epoch 29, validation accuracy 0.9446715116500854\n",
      "Epoch 30, validation accuracy 0.9333335757255554\n",
      "Epoch 31, validation accuracy 0.9492066502571106\n",
      "Epoch 32, validation accuracy 0.9401362538337708\n",
      "Epoch 33, validation accuracy 0.9444446563720703\n",
      "Epoch 34, validation accuracy 0.9473925232887268\n",
      "Epoch 35, validation accuracy 0.943084180355072\n",
      "Epoch 36, validation accuracy 0.9498869180679321\n",
      "Epoch 37, validation accuracy 0.9446713924407959\n",
      "Epoch 38, validation accuracy 0.9480727910995483\n",
      "Epoch 39, validation accuracy 0.9530614614486694\n",
      "Epoch 40, validation accuracy 0.9501135945320129\n",
      "Epoch 41, validation accuracy 0.9473925232887268\n",
      "Epoch 42, validation accuracy 0.943537712097168\n",
      "Epoch 43, validation accuracy 0.9446715116500854\n",
      "Epoch 44, validation accuracy 0.9453517198562622\n",
      "Epoch 45, validation accuracy 0.9410433769226074\n",
      "Epoch 46, validation accuracy 0.9480728507041931\n",
      "Epoch 47, validation accuracy 0.9544219970703125\n",
      "Epoch 48, validation accuracy 0.944898247718811\n",
      "Epoch 49, validation accuracy 0.941270112991333\n"
     ]
    }
   ],
   "source": [
    "with tf.Session() as sess:\n",
    "    sess.run(tf.global_variables_initializer())\n",
    "    \n",
    "    count = 0\n",
    "    valid_best = 0\n",
    "    for i in range(epochs):\n",
    "        for x_batch, y_batch in generate_batch(X_train_gray, y_train, batch_size):\n",
    "            count += 1\n",
    "            sess.run(opt, feed_dict = {inputs:x_batch, labels:y_batch, is_training:True})\n",
    "            \n",
    "        valid_accuracy = sess.run(accuracy, feed_dict = {inputs:X_valid_gray, labels:y_valid,\n",
    "                                                        is_training:False})\n",
    "        print(\"Epoch {}, validation accuracy {}\".format(i, valid_accuracy))\n",
    "        if valid_accuracy > valid_best:\n",
    "            valid_best = valid_accuracy\n",
    "            save_path = saver.save(sess, \"model.ckpt\")"
   ]
  },
  {
   "cell_type": "code",
   "execution_count": 27,
   "metadata": {},
   "outputs": [
    {
     "name": "stdout",
     "output_type": "stream",
     "text": [
      "INFO:tensorflow:Restoring parameters from model.ckpt\n",
      "Training accuracy is 99.97%\n",
      "Validation accuracy is 95.44%\n",
      "Test accuracy is 93.33%\n"
     ]
    }
   ],
   "source": [
    "with tf.Session() as sess:\n",
    "    sess.run(tf.global_variables_initializer())\n",
    "    saver.restore(sess, \"model.ckpt\")\n",
    "    \n",
    "    train_accuracy = evaluate(X_train_gray, y_train)\n",
    "    print(\"Training accuracy is {:.2f}%\".format(train_accuracy*100))\n",
    "    valid_accuracy = evaluate(X_valid_gray, y_valid)\n",
    "    print(\"Validation accuracy is {:.2f}%\".format(valid_accuracy*100))\n",
    "    test_accuracy = evaluate(X_test_gray, y_test)\n",
    "    print(\"Test accuracy is {:.2f}%\".format(test_accuracy*100))"
   ]
  },
  {
   "cell_type": "markdown",
   "metadata": {},
   "source": [
    "---\n",
    "\n",
    "## Step 3: Test a Model on New Images\n",
    "\n",
    "To give yourself more insight into how your model is working, download at least five pictures of German traffic signs from the web and use your model to predict the traffic sign type.\n",
    "\n",
    "You may find `signnames.csv` useful as it contains mappings from the class id (integer) to the actual sign name."
   ]
  },
  {
   "cell_type": "markdown",
   "metadata": {},
   "source": [
    "### Load and Output the Images"
   ]
  },
  {
   "cell_type": "code",
   "execution_count": 10,
   "metadata": {},
   "outputs": [
    {
     "name": "stdout",
     "output_type": "stream",
     "text": [
      "(5, 32, 32, 1)\n"
     ]
    },
    {
     "data": {
      "image/png": "[encoded data removed]",
      "text/plain": [
       "<Figure size 864x864 with 5 Axes>"
      ]
     },
     "metadata": {},
     "output_type": "display_data"
    }
   ],
   "source": [
    "### Load the images and plot them here.\n",
    "### Feel free to use as many code cells as needed.\n",
    "import pandas as pd\n",
    "import glob\n",
    "\n",
    "name = pd.read_csv(\"signnames.csv\")\n",
    "\n",
    "fig, axs = plt.subplots(1,5, figsize=(12,12))\n",
    "axs = axs.ravel()\n",
    "\n",
    "ans = [2, 40, 21, 13, 17]\n",
    "images = []\n",
    "for i, path in enumerate(glob.glob(\"my_image/*.ppm\")):\n",
    "    img = cv2.imread(path)\n",
    "    img = cv2.cvtColor(img, cv2.COLOR_BGR2RGB)\n",
    "    resize_img = cv2.resize(img, (32, 32)) \n",
    "    axs[i].imshow(img)\n",
    "    images.append(resize_img)\n",
    "fig.savefig(\"5-new-sign.png\")\n",
    "images = np.stack(images)\n",
    "images_gray = preprocess(images)\n",
    "print(images_gray.shape)"
   ]
  },
  {
   "cell_type": "markdown",
   "metadata": {},
   "source": [
    "### Predict the Sign Type for Each Image"
   ]
  },
  {
   "cell_type": "code",
   "execution_count": 46,
   "metadata": {},
   "outputs": [
    {
     "name": "stdout",
     "output_type": "stream",
     "text": [
      "INFO:tensorflow:Restoring parameters from model.ckpt\n"
     ]
    }
   ],
   "source": [
    "### Run the predictions here and use the model to output the prediction for each image.\n",
    "### Make sure to pre-process the images with the same pre-processing pipeline used earlier.\n",
    "### Feel free to use as many code cells as needed.\n",
    "with tf.Session() as sess:\n",
    "    sess.run(tf.global_variables_initializer())\n",
    "    saver.restore(sess, \"model.ckpt\")\n",
    "    \n",
    "    test_input = X_test_gray[select]\n",
    "    predictions = sess.run(softmax, feed_dict={inputs:images_gray, is_training:False})\n",
    "    predict_labels = np.argmax(predictions, axis=1)"
   ]
  },
  {
   "cell_type": "code",
   "execution_count": 52,
   "metadata": {},
   "outputs": [
    {
     "name": "stdout",
     "output_type": "stream",
     "text": [
      "Predicted label: Speed limit (50km/h)\n",
      "Accutual label: Speed limit (50km/h)\n",
      "Correct!\n"
     ]
    },
    {
     "data": {
      "image/png": "[encoded data removed]",
      "text/plain": [
       "<matplotlib.figure.Figure at 0x7fcb8c13ec88>"
      ]
     },
     "metadata": {},
     "output_type": "display_data"
    }
   ],
   "source": [
    "correct = 0\n",
    "\n",
    "i = 0\n",
    "plt.figure()\n",
    "plt.imshow(images[i, :, :, :])\n",
    "predict_label = name.iloc[predict_labels[i]]['SignName']\n",
    "real_label = name.iloc[ans[i]]['SignName']\n",
    "print(\"Predicted label: {}\".format(predict_label))\n",
    "print(\"Accutual label: {}\".format(real_label))\n",
    "if predict_labels[i] == ans[i]:\n",
    "    print(\"Correct!\")\n",
    "    correct += 1\n",
    "else:\n",
    "    print(\"Wrong!\")"
   ]
  },
  {
   "cell_type": "code",
   "execution_count": 53,
   "metadata": {},
   "outputs": [
    {
     "name": "stdout",
     "output_type": "stream",
     "text": [
      "Predicted label: Roundabout mandatory\n",
      "Accutual label: Roundabout mandatory\n",
      "Correct!\n"
     ]
    },
    {
     "data": {
      "image/png": "[encoded data removed]",
      "text/plain": [
       "<matplotlib.figure.Figure at 0x7fcb8461d780>"
      ]
     },
     "metadata": {},
     "output_type": "display_data"
    }
   ],
   "source": [
    "i = 1\n",
    "plt.figure()\n",
    "plt.imshow(images[i, :, :, :])\n",
    "predict_label = name.iloc[predict_labels[i]]['SignName']\n",
    "real_label = name.iloc[ans[i]]['SignName']\n",
    "print(\"Predicted label: {}\".format(predict_label))\n",
    "print(\"Accutual label: {}\".format(real_label))\n",
    "if predict_labels[i] == ans[i]:\n",
    "    print(\"Correct!\")\n",
    "    correct += 1\n",
    "else:\n",
    "    print(\"Wrong!\")"
   ]
  },
  {
   "cell_type": "code",
   "execution_count": 54,
   "metadata": {},
   "outputs": [
    {
     "name": "stdout",
     "output_type": "stream",
     "text": [
      "Predicted label: Slippery road\n",
      "Accutual label: Double curve\n",
      "Wrong!\n"
     ]
    },
    {
     "data": {
      "image/png": "[encoded data removed]",
      "text/plain": [
       "<matplotlib.figure.Figure at 0x7fcb8462fb00>"
      ]
     },
     "metadata": {},
     "output_type": "display_data"
    }
   ],
   "source": [
    "i = 2\n",
    "plt.figure()\n",
    "plt.imshow(images[i, :, :, :])\n",
    "predict_label = name.iloc[predict_labels[i]]['SignName']\n",
    "real_label = name.iloc[ans[i]]['SignName']\n",
    "print(\"Predicted label: {}\".format(predict_label))\n",
    "print(\"Accutual label: {}\".format(real_label))\n",
    "if predict_labels[i] == ans[i]:\n",
    "    print(\"Correct!\")\n",
    "    correct += 1\n",
    "else:\n",
    "    print(\"Wrong!\")"
   ]
  },
  {
   "cell_type": "code",
   "execution_count": 55,
   "metadata": {},
   "outputs": [
    {
     "name": "stdout",
     "output_type": "stream",
     "text": [
      "Predicted label: Yield\n",
      "Accutual label: Yield\n",
      "Correct!\n"
     ]
    },
    {
     "data": {
      "image/png": "[encoded data removed]",
      "text/plain": [
       "<matplotlib.figure.Figure at 0x7fcb8c0a9400>"
      ]
     },
     "metadata": {},
     "output_type": "display_data"
    }
   ],
   "source": [
    "i = 3\n",
    "plt.figure()\n",
    "plt.imshow(images[i, :, :, :])\n",
    "predict_label = name.iloc[predict_labels[i]]['SignName']\n",
    "real_label = name.iloc[ans[i]]['SignName']\n",
    "print(\"Predicted label: {}\".format(predict_label))\n",
    "print(\"Accutual label: {}\".format(real_label))\n",
    "if predict_labels[i] == ans[i]:\n",
    "    print(\"Correct!\")\n",
    "    correct += 1\n",
    "else:\n",
    "    print(\"Wrong!\")"
   ]
  },
  {
   "cell_type": "code",
   "execution_count": 56,
   "metadata": {},
   "outputs": [
    {
     "name": "stdout",
     "output_type": "stream",
     "text": [
      "Predicted label: No entry\n",
      "Accutual label: No entry\n",
      "Correct!\n"
     ]
    },
    {
     "data": {
      "image/png": "[encoded data removed]",
      "text/plain": [
       "<matplotlib.figure.Figure at 0x7fcb84558588>"
      ]
     },
     "metadata": {},
     "output_type": "display_data"
    }
   ],
   "source": [
    "i = 4\n",
    "plt.figure()\n",
    "plt.imshow(images[i, :, :, :])\n",
    "predict_label = name.iloc[predict_labels[i]]['SignName']\n",
    "real_label = name.iloc[ans[i]]['SignName']\n",
    "print(\"Predicted label: {}\".format(predict_label))\n",
    "print(\"Accutual label: {}\".format(real_label))\n",
    "if predict_labels[i] == ans[i]:\n",
    "    print(\"Correct!\")\n",
    "    correct += 1\n",
    "else:\n",
    "    print(\"Wrong!\")"
   ]
  },
  {
   "cell_type": "markdown",
   "metadata": {},
   "source": [
    "### Analyze Performance"
   ]
  },
  {
   "cell_type": "code",
   "execution_count": 57,
   "metadata": {},
   "outputs": [
    {
     "name": "stdout",
     "output_type": "stream",
     "text": [
      "The accuracy on 5 new images is 80.00%\n"
     ]
    }
   ],
   "source": [
    "### Calculate the accuracy for these 5 new images. \n",
    "### For example, if the model predicted 1 out of 5 signs correctly, it's 20% accurate on these new images.\n",
    "print(\"The accuracy on 5 new images is {:.2f}%\".format(correct/5*100))"
   ]
  },
  {
   "cell_type": "markdown",
   "metadata": {},
   "source": [
    "### Output Top 5 Softmax Probabilities For Each Image Found on the Web"
   ]
  },
  {
   "cell_type": "markdown",
   "metadata": {},
   "source": [
    "For each of the new images, print out the model's softmax probabilities to show the **certainty** of the model's predictions (limit the output to the top 5 probabilities for each image). [`tf.nn.top_k`](https://www.tensorflow.org/versions/r0.12/api_docs/python/nn.html#top_k) could prove helpful here. \n",
    "\n",
    "The example below demonstrates how tf.nn.top_k can be used to find the top k predictions for each image.\n",
    "\n",
    "`tf.nn.top_k` will return the values and indices (class ids) of the top k predictions. So if k=3, for each sign, it'll return the 3 largest probabilities (out of a possible 43) and the correspoding class ids.\n",
    "\n",
    "Take this numpy array as an example. The values in the array represent predictions. The array contains softmax probabilities for five candidate images with six possible classes. `tf.nn.top_k` is used to choose the three classes with the highest probability:\n",
    "\n",
    "```\n",
    "# (5, 6) array\n",
    "a = np.array([[ 0.24879643,  0.07032244,  0.12641572,  0.34763842,  0.07893497,\n",
    "         0.12789202],\n",
    "       [ 0.28086119,  0.27569815,  0.08594638,  0.0178669 ,  0.18063401,\n",
    "         0.15899337],\n",
    "       [ 0.26076848,  0.23664738,  0.08020603,  0.07001922,  0.1134371 ,\n",
    "         0.23892179],\n",
    "       [ 0.11943333,  0.29198961,  0.02605103,  0.26234032,  0.1351348 ,\n",
    "         0.16505091],\n",
    "       [ 0.09561176,  0.34396535,  0.0643941 ,  0.16240774,  0.24206137,\n",
    "         0.09155967]])\n",
    "```\n",
    "\n",
    "Running it through `sess.run(tf.nn.top_k(tf.constant(a), k=3))` produces:\n",
    "\n",
    "```\n",
    "TopKV2(values=array([[ 0.34763842,  0.24879643,  0.12789202],\n",
    "       [ 0.28086119,  0.27569815,  0.18063401],\n",
    "       [ 0.26076848,  0.23892179,  0.23664738],\n",
    "       [ 0.29198961,  0.26234032,  0.16505091],\n",
    "       [ 0.34396535,  0.24206137,  0.16240774]]), indices=array([[3, 0, 5],\n",
    "       [0, 1, 4],\n",
    "       [0, 5, 1],\n",
    "       [1, 3, 5],\n",
    "       [1, 4, 3]], dtype=int32))\n",
    "```\n",
    "\n",
    "Looking just at the first row we get `[ 0.34763842,  0.24879643,  0.12789202]`, you can confirm these are the 3 largest probabilities in `a`. You'll also notice `[3, 0, 5]` are the corresponding indices."
   ]
  },
  {
   "cell_type": "code",
   "execution_count": 59,
   "metadata": {},
   "outputs": [
    {
     "name": "stdout",
     "output_type": "stream",
     "text": [
      "INFO:tensorflow:Restoring parameters from model.ckpt\n"
     ]
    }
   ],
   "source": [
    "### Print out the top five softmax probabilities for the predictions on the German traffic sign images found on the web. \n",
    "### Feel free to use as many code cells as needed.\n",
    "with tf.Session() as sess:\n",
    "    sess.run(tf.global_variables_initializer())\n",
    "    saver.restore(sess, \"model.ckpt\")\n",
    "    \n",
    "    top_predicts = sess.run(top_k, feed_dict={inputs:images_gray, is_training:False})\n"
   ]
  },
  {
   "cell_type": "code",
   "execution_count": 60,
   "metadata": {
    "collapsed": true
   },
   "outputs": [],
   "source": [
    "def topk(i):\n",
    "    plt.figure()\n",
    "    plt.imshow(images[i, :, :, :])\n",
    "    real_label = name.iloc[ans[i]]['SignName']\n",
    "    print(\"Accutual label: {}\".format(real_label))\n",
    "    for j in range(5):\n",
    "        top = name.iloc[top_predicts[1][i][j]]['SignName']\n",
    "        print(\"Top{} prediction: {}, confidence: {:.2f}%\".format(j+1, top, top_predicts[0][i][j]*100))"
   ]
  },
  {
   "cell_type": "code",
   "execution_count": 61,
   "metadata": {},
   "outputs": [
    {
     "name": "stdout",
     "output_type": "stream",
     "text": [
      "Accutual label: Speed limit (50km/h)\n",
      "Top1 prediction: Speed limit (50km/h), confidence: 100.00%\n",
      "Top2 prediction: Speed limit (20km/h), confidence: 0.00%\n",
      "Top3 prediction: Speed limit (60km/h), confidence: 0.00%\n",
      "Top4 prediction: Speed limit (80km/h), confidence: 0.00%\n",
      "Top5 prediction: End of no passing by vehicles over 3.5 metric tons, confidence: 0.00%\n"
     ]
    },
    {
     "data": {
      "image/png": "[encoded data removed]",
      "text/plain": [
       "<matplotlib.figure.Figure at 0x7fcb845259b0>"
      ]
     },
     "metadata": {},
     "output_type": "display_data"
    }
   ],
   "source": [
    "topk(0)"
   ]
  },
  {
   "cell_type": "code",
   "execution_count": 62,
   "metadata": {},
   "outputs": [
    {
     "name": "stdout",
     "output_type": "stream",
     "text": [
      "Accutual label: Roundabout mandatory\n",
      "Top1 prediction: Roundabout mandatory, confidence: 100.00%\n",
      "Top2 prediction: Priority road, confidence: 0.00%\n",
      "Top3 prediction: Turn right ahead, confidence: 0.00%\n",
      "Top4 prediction: Traffic signals, confidence: 0.00%\n",
      "Top5 prediction: Right-of-way at the next intersection, confidence: 0.00%\n"
     ]
    },
    {
     "data": {
      "image/png": "[encoded data removed]",
      "text/plain": [
       "<matplotlib.figure.Figure at 0x7fcb85fa55f8>"
      ]
     },
     "metadata": {},
     "output_type": "display_data"
    }
   ],
   "source": [
    "topk(1)"
   ]
  },
  {
   "cell_type": "code",
   "execution_count": 63,
   "metadata": {},
   "outputs": [
    {
     "name": "stdout",
     "output_type": "stream",
     "text": [
      "Accutual label: Double curve\n",
      "Top1 prediction: Slippery road, confidence: 98.06%\n",
      "Top2 prediction: Double curve, confidence: 1.02%\n",
      "Top3 prediction: Right-of-way at the next intersection, confidence: 0.92%\n",
      "Top4 prediction: Beware of ice/snow, confidence: 0.00%\n",
      "Top5 prediction: Road narrows on the right, confidence: 0.00%\n"
     ]
    },
    {
     "data": {
      "image/png": "[encoded data removed]",
      "text/plain": [
       "<matplotlib.figure.Figure at 0x7fcb85fb05f8>"
      ]
     },
     "metadata": {},
     "output_type": "display_data"
    }
   ],
   "source": [
    "topk(2)"
   ]
  },
  {
   "cell_type": "code",
   "execution_count": 64,
   "metadata": {},
   "outputs": [
    {
     "name": "stdout",
     "output_type": "stream",
     "text": [
      "Accutual label: Yield\n",
      "Top1 prediction: Yield, confidence: 100.00%\n",
      "Top2 prediction: No vehicles, confidence: 0.00%\n",
      "Top3 prediction: Speed limit (50km/h), confidence: 0.00%\n",
      "Top4 prediction: Speed limit (20km/h), confidence: 0.00%\n",
      "Top5 prediction: Speed limit (30km/h), confidence: 0.00%\n"
     ]
    },
    {
     "data": {
      "image/png": "[encoded data removed]",
      "text/plain": [
       "<matplotlib.figure.Figure at 0x7fcb84521898>"
      ]
     },
     "metadata": {},
     "output_type": "display_data"
    }
   ],
   "source": [
    "topk(3)"
   ]
  },
  {
   "cell_type": "code",
   "execution_count": 65,
   "metadata": {},
   "outputs": [
    {
     "name": "stdout",
     "output_type": "stream",
     "text": [
      "Accutual label: No entry\n",
      "Top1 prediction: No entry, confidence: 100.00%\n",
      "Top2 prediction: Keep left, confidence: 0.00%\n",
      "Top3 prediction: Stop, confidence: 0.00%\n",
      "Top4 prediction: Speed limit (20km/h), confidence: 0.00%\n",
      "Top5 prediction: Speed limit (30km/h), confidence: 0.00%\n"
     ]
    },
    {
     "data": {
      "image/png": "[encoded data removed]",
      "text/plain": [
       "<matplotlib.figure.Figure at 0x7fcb845eaf60>"
      ]
     },
     "metadata": {},
     "output_type": "display_data"
    }
   ],
   "source": [
    "topk(4)"
   ]
  },
  {
   "cell_type": "markdown",
   "metadata": {},
   "source": [
    "### Project Writeup\n",
    "\n",
    "Once you have completed the code implementation, document your results in a project writeup using this [template](https://github.com/udacity/CarND-Traffic-Sign-Classifier-Project/blob/master/writeup_template.md) as a guide. The writeup can be in a markdown or pdf file. "
   ]
  },
  {
   "cell_type": "markdown",
   "metadata": {},
   "source": [
    "> **Note**: Once you have completed all of the code implementations and successfully answered each question above, you may finalize your work by exporting the iPython Notebook as an HTML document. You can do this by using the menu above and navigating to  \\n\",\n",
    "    \"**File -> Download as -> HTML (.html)**. Include the finished document along with this notebook as your submission."
   ]
  },
  {
   "cell_type": "markdown",
   "metadata": {},
   "source": [
    "---\n",
    "\n",
    "## Step 4 (Optional): Visualize the Neural Network's State with Test Images\n",
    "\n",
    " This Section is not required to complete but acts as an additional excersise for understaning the output of a neural network's weights. While neural networks can be a great learning device they are often referred to as a black box. We can understand what the weights of a neural network look like better by plotting their feature maps. After successfully training your neural network you can see what it's feature maps look like by plotting the output of the network's weight layers in response to a test stimuli image. From these plotted feature maps, it's possible to see what characteristics of an image the network finds interesting. For a sign, maybe the inner network feature maps react with high activation to the sign's boundary outline or to the contrast in the sign's painted symbol.\n",
    "\n",
    " Provided for you below is the function code that allows you to get the visualization output of any tensorflow weight layer you want. The inputs to the function should be a stimuli image, one used during training or a new one you provided, and then the tensorflow variable name that represents the layer's state during the training process, for instance if you wanted to see what the [LeNet lab's](https://classroom.udacity.com/nanodegrees/nd013/parts/fbf77062-5703-404e-b60c-95b78b2f3f9e/modules/6df7ae49-c61c-4bb2-a23e-6527e69209ec/lessons/601ae704-1035-4287-8b11-e2c2716217ad/concepts/d4aca031-508f-4e0b-b493-e7b706120f81) feature maps looked like for it's second convolutional layer you could enter conv2 as the tf_activation variable.\n",
    "\n",
    "For an example of what feature map outputs look like, check out NVIDIA's results in their paper [End-to-End Deep Learning for Self-Driving Cars](https://devblogs.nvidia.com/parallelforall/deep-learning-self-driving-cars/) in the section Visualization of internal CNN State. NVIDIA was able to show that their network's inner weights had high activations to road boundary lines by comparing feature maps from an image with a clear path to one without. Try experimenting with a similar test to show that your trained network's weights are looking for interesting features, whether it's looking at differences in feature maps from images with or without a sign, or even what feature maps look like in a trained network vs a completely untrained one on the same sign image.\n",
    "\n",
    "<figure>\n",
    " <img src=\"visualize_cnn.png\" width=\"380\" alt=\"Combined Image\" />\n",
    " <figcaption>\n",
    " <p></p> \n",
    " <p style=\"text-align: center;\"> Your output should look something like this (above)</p> \n",
    " </figcaption>\n",
    "</figure>\n",
    " <p></p> \n"
   ]
  },
  {
   "cell_type": "code",
   "execution_count": 31,
   "metadata": {
    "collapsed": true
   },
   "outputs": [],
   "source": [
    "### Visualize your network's feature maps here.\n",
    "### Feel free to use as many code cells as needed.\n",
    "\n",
    "# image_input: the test image being fed into the network to produce the feature maps\n",
    "# tf_activation: should be a tf variable name used during your training procedure that represents the calculated state of a specific weight layer\n",
    "# activation_min/max: can be used to view the activation contrast in more detail, by default matplot sets min and max to the actual min and max values of the output\n",
    "# plt_num: used to plot out multiple different weight feature map sets on the same block, just extend the plt number for each new feature map entry\n",
    "\n",
    "def outputFeatureMap(image_input, tf_activation, activation_min=-1, activation_max=-1 ,plt_num=1):\n",
    "    # Here make sure to preprocess your image_input in a way your network expects\n",
    "    # with size, normalization, ect if needed\n",
    "    # image_input =\n",
    "    # Note: x should be the same name as your network's tensorflow data placeholder variable\n",
    "    # If you get an error tf_activation is not defined it may be having trouble accessing the variable from inside a function\n",
    "    activation = tf_activation.eval(session=sess,feed_dict={x : image_input})\n",
    "    featuremaps = activation.shape[3]\n",
    "    plt.figure(plt_num, figsize=(15,15))\n",
    "    for featuremap in range(featuremaps):\n",
    "        plt.subplot(6,8, featuremap+1) # sets the number of feature maps to show on each row and column\n",
    "        plt.title('FeatureMap ' + str(featuremap)) # displays the feature map number\n",
    "        if activation_min != -1 & activation_max != -1:\n",
    "            plt.imshow(activation[0,:,:, featuremap], interpolation=\"nearest\", vmin =activation_min, vmax=activation_max, cmap=\"gray\")\n",
    "        elif activation_max != -1:\n",
    "            plt.imshow(activation[0,:,:, featuremap], interpolation=\"nearest\", vmax=activation_max, cmap=\"gray\")\n",
    "        elif activation_min !=-1:\n",
    "            plt.imshow(activation[0,:,:, featuremap], interpolation=\"nearest\", vmin=activation_min, cmap=\"gray\")\n",
    "        else:\n",
    "            plt.imshow(activation[0,:,:, featuremap], interpolation=\"nearest\", cmap=\"gray\")"
   ]
  }
 ],
 "metadata": {
  "anaconda-cloud": {},
  "kernelspec": {
   "display_name": "Python [default]",
   "language": "python",
   "name": "python3"
  },
  "language_info": {
   "codemirror_mode": {
    "name": "ipython",
    "version": 3
   },
   "file_extension": ".py",
   "mimetype": "text/x-python",
   "name": "python",
   "nbconvert_exporter": "python",
   "pygments_lexer": "ipython3",
   "version": "3.6.6"
  }
 },
 "nbformat": 4,
 "nbformat_minor": 1
}
